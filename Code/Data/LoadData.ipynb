{
 "cells": [
  {
   "cell_type": "code",
   "execution_count": null,
   "metadata": {},
   "outputs": [],
   "source": [
    "stock_tickers = [\n",
    "    \"AAPL\", \"MSFT\", \"GOOG\", \"GOOGL\", \"AMZN\", \"NVDA\", \"TSLA\", \"META\",\n",
    "    \"V\", \"JPM\", \"UNH\", \"XOM\", \"LLY\", \"WMT\", \"JNJ\", \"MA\", \"AVGO\", \"PG\", \"HD\",\n",
    "    \"ORCL\", \"CVX\", \"MRK\", \"KO\", \"PEP\", \"COST\", \"ABBV\", \"ADBE\", \"BAC\", \"CRM\",\n",
    "    \"MCD\", \"CSCO\", \"PFE\", \"TMO\", \"ACN\", \"NFLX\", \"ABT\", \"LIN\", \"AMD\", \"DHR\",\n",
    "    \"CMCSA\", \"NKE\", \"TMUS\", \"DIS\", \"WFC\", \"TXN\", \"UPS\", \"PM\", \"NEE\", \"MS\"\n",
    "]"
   ]
  },
  {
   "cell_type": "code",
   "execution_count": null,
   "metadata": {},
   "outputs": [],
   "source": [
    "sheet_names = [\n",
    "    'AAPL-US', 'MSFT-US', 'GOOG-US', 'GOOGL-US', 'AMZN-US', 'NVDA-US', 'TSLA-US', 'META-US',\n",
    "    'V-US', 'JPM-US', 'UNH-US', 'XOM-US', 'LLY-US', 'WMT-US', 'JNJ-US', 'MA-US', 'AVGO-US',\n",
    "    'PG-US', 'HD-US', 'ORCL-US', 'CVX-US', 'MRK-US', 'KO-US', 'PEP-US', 'COST-US', 'ABBV-US',\n",
    "    'ADBE-US', 'BAC-US', 'CRM-US', 'MCD-US', 'CSCO-US', 'PFE-US', 'TMO-US', 'ACN-US', 'NFLX-US',\n",
    "    'ABT-US', 'LIN-US', 'AMD-US', 'DHR-US', 'CMCSA-US', 'NKE-US', 'TMUS-US', 'DIS-US', 'WFC-US',\n",
    "    'TXN-US', 'UPS-US', 'PM-US', 'NEE-US', 'MS-US'\n",
    "]"
   ]
  },
  {
   "cell_type": "code",
   "execution_count": null,
   "metadata": {},
   "outputs": [],
   "source": [
    "def load_df(company_code):\n",
    "\n",
    "    # Load the Excel file and read Data from the file\n",
    "    file_path = company_code + '.xlsx'\n",
    "    sheet_name = company_code           \n",
    "    data = pd.read_excel(file_path, sheet_name=sheet_name, engine='openpyxl')\n",
    "\n",
    "    # Remove rows with any NaN values\n",
    "    data = data.dropna()\n",
    "    # Reset the index of the DataFrame and drop the old index\n",
    "    data = data.reset_index(drop=True)\n",
    "    return data"
   ]
  },
  {
   "cell_type": "code",
   "execution_count": null,
   "metadata": {},
   "outputs": [],
   "source": []
  }
 ],
 "metadata": {
  "language_info": {
   "name": "python"
  }
 },
 "nbformat": 4,
 "nbformat_minor": 2
}
